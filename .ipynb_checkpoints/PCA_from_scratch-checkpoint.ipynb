{
 "cells": [
  {
   "cell_type": "code",
   "execution_count": null,
   "metadata": {
    "collapsed": true,
    "deletable": true,
    "editable": true
   },
   "outputs": [],
   "source": [
    "# why dimensionality reduction\n",
    "# 1. space efficiency\n",
    "# 2. computing efficiency\n",
    "# 3. visualization\n",
    "# we will build PCA and then compare it to T-SNE and LDA"
   ]
  },
  {
   "cell_type": "code",
   "execution_count": 3,
   "metadata": {
    "collapsed": true,
    "deletable": true,
    "editable": true
   },
   "outputs": [],
   "source": [
    "import numpy as np\n",
    "np.random.seed(1)"
   ]
  },
  {
   "cell_type": "code",
   "execution_count": 4,
   "metadata": {
    "collapsed": false,
    "deletable": true,
    "editable": true
   },
   "outputs": [
    {
     "name": "stdout",
     "output_type": "stream",
     "text": [
      "[[ 1.62434536 -1.07296862  1.74481176 -0.24937038 -0.3224172  -1.09989127\n",
      "   0.04221375  1.14472371  0.90085595 -0.93576943 -0.69166075 -0.84520564\n",
      "  -1.11731035  0.74204416 -0.74715829 -0.63699565  0.12015895 -0.35224985\n",
      "  -0.20889423  0.93110208]\n",
      " [-0.61175641  0.86540763 -0.7612069   1.46210794 -0.38405435 -0.17242821\n",
      "   0.58281521  0.90159072 -0.68372786 -0.26788808 -0.39675353 -0.67124613\n",
      "   0.2344157  -0.19183555  1.6924546   0.19091548  0.61720311 -1.1425182\n",
      "   0.58662319  0.28558733]\n",
      " [-0.52817175 -2.3015387   0.3190391  -2.06014071  1.13376944 -0.87785842\n",
      "  -1.10061918  0.50249434 -0.12289023  0.53035547 -0.6871727  -0.0126646\n",
      "   1.65980218 -0.88762896  0.05080775  2.10025514  0.30017032 -0.34934272\n",
      "   0.83898341  0.88514116]]\n"
     ]
    }
   ],
   "source": [
    "#step 1 - Create our dataset\n",
    "mu_vec1 = np.array([0,0,0])\n",
    "cov_mat1 = np.array([[1,0,0],[0,1,0],[0,0,1]])\n",
    "\n",
    "class1_sample = np.random.multivariate_normal(mu_vec1, cov_mat1, 20).T\n",
    "print (class1_sample)\n",
    "#3 x 20 matrix"
   ]
  },
  {
   "cell_type": "code",
   "execution_count": 5,
   "metadata": {
    "collapsed": false,
    "deletable": true,
    "editable": true
   },
   "outputs": [
    {
     "name": "stdout",
     "output_type": "stream",
     "text": [
      "[[-0.75439794 -0.29809284  1.13162939 -1.39649634  0.16003707 -2.02220122\n",
      "   0.23009474 -0.20075807  0.19829972  0.37756379  1.19891788 -0.63873041\n",
      "  -0.34385368  0.69803203  0.40349164  0.16938243 -0.26621851  0.31515939\n",
      "   0.35054598 -1.61577235]\n",
      " [ 1.25286816  0.48851815  1.51981682 -1.44411381  0.87616892 -0.30620401\n",
      "   0.76201118  0.18656139  0.11900865  0.12182127  0.18515642  0.42349435\n",
      "   0.04359686 -0.44712856  0.59357852  0.74055645  0.03261455  0.84616065\n",
      "  -1.31228341  1.12141771]\n",
      " [ 0.51292982 -0.07557171  2.18557541 -0.50446586  0.31563495  0.82797464\n",
      "  -0.22232814  0.41005165 -0.67066229  1.12948391 -0.37528495  0.07734007\n",
      "  -0.62000084  1.2245077  -1.09491185 -0.9537006  -1.37311732 -0.85951594\n",
      "  -0.03869551  0.40890054]]\n"
     ]
    }
   ],
   "source": [
    "mu_vec2 = np.array([0,0,0])\n",
    "cov_mat2 = np.array([[1,0,0],[0,1,0],[0,0,1]])\n",
    "\n",
    "class2_sample = np.random.multivariate_normal(mu_vec2, cov_mat2, 20).T\n",
    "print (class2_sample)"
   ]
  },
  {
   "cell_type": "code",
   "execution_count": 9,
   "metadata": {
    "collapsed": false
   },
   "outputs": [
    {
     "ename": "ImportError",
     "evalue": "No module named 'cycler'",
     "output_type": "error",
     "traceback": [
      "\u001b[0;31m---------------------------------------------------------------------------\u001b[0m",
      "\u001b[0;31mImportError\u001b[0m                               Traceback (most recent call last)",
      "\u001b[0;32m<ipython-input-9-daeca697aab1>\u001b[0m in \u001b[0;36m<module>\u001b[0;34m()\u001b[0m\n\u001b[1;32m      1\u001b[0m \u001b[1;31m# Step 2 - Plot the data\u001b[0m\u001b[1;33m\u001b[0m\u001b[1;33m\u001b[0m\u001b[0m\n\u001b[0;32m----> 2\u001b[0;31m \u001b[1;32mfrom\u001b[0m \u001b[0mmatplotlib\u001b[0m \u001b[1;32mimport\u001b[0m \u001b[0mpyplot\u001b[0m \u001b[1;32mas\u001b[0m \u001b[0mplt\u001b[0m\u001b[1;33m\u001b[0m\u001b[0m\n\u001b[0m\u001b[1;32m      3\u001b[0m \u001b[1;31m#figure, width and height\u001b[0m\u001b[1;33m\u001b[0m\u001b[1;33m\u001b[0m\u001b[0m\n\u001b[1;32m      4\u001b[0m \u001b[0mfig\u001b[0m \u001b[1;33m=\u001b[0m \u001b[0mplt\u001b[0m\u001b[1;33m.\u001b[0m\u001b[0mfigure\u001b[0m\u001b[1;33m(\u001b[0m\u001b[0mfigsize\u001b[0m \u001b[1;33m=\u001b[0m \u001b[1;33m(\u001b[0m\u001b[1;36m8\u001b[0m\u001b[1;33m,\u001b[0m\u001b[1;36m8\u001b[0m\u001b[1;33m)\u001b[0m \u001b[1;33m)\u001b[0m\u001b[1;33m\u001b[0m\u001b[0m\n\u001b[1;32m      5\u001b[0m \u001b[1;31m#3d subplot\u001b[0m\u001b[1;33m\u001b[0m\u001b[1;33m\u001b[0m\u001b[0m\n",
      "\u001b[0;32mC:\\Users\\Shiv\\Anaconda3\\envs\\py35\\lib\\site-packages\\matplotlib\\__init__.py\u001b[0m in \u001b[0;36m<module>\u001b[0;34m()\u001b[0m\n\u001b[1;32m    122\u001b[0m \u001b[1;32mfrom\u001b[0m \u001b[0mmatplotlib\u001b[0m\u001b[1;33m.\u001b[0m\u001b[0mcbook\u001b[0m \u001b[1;32mimport\u001b[0m \u001b[0mis_string_like\u001b[0m\u001b[1;33m,\u001b[0m \u001b[0mmplDeprecation\u001b[0m\u001b[1;33m,\u001b[0m \u001b[0mdedent\u001b[0m\u001b[1;33m,\u001b[0m \u001b[0mget_label\u001b[0m\u001b[1;33m\u001b[0m\u001b[0m\n\u001b[1;32m    123\u001b[0m \u001b[1;32mfrom\u001b[0m \u001b[0mmatplotlib\u001b[0m\u001b[1;33m.\u001b[0m\u001b[0mcompat\u001b[0m \u001b[1;32mimport\u001b[0m \u001b[0msubprocess\u001b[0m\u001b[1;33m\u001b[0m\u001b[0m\n\u001b[0;32m--> 124\u001b[0;31m from matplotlib.rcsetup import (defaultParams,\n\u001b[0m\u001b[1;32m    125\u001b[0m                                 \u001b[0mvalidate_backend\u001b[0m\u001b[1;33m,\u001b[0m\u001b[1;33m\u001b[0m\u001b[0m\n\u001b[1;32m    126\u001b[0m                                 cycler)\n",
      "\u001b[0;32mC:\\Users\\Shiv\\Anaconda3\\envs\\py35\\lib\\site-packages\\matplotlib\\rcsetup.py\u001b[0m in \u001b[0;36m<module>\u001b[0;34m()\u001b[0m\n\u001b[1;32m     35\u001b[0m \u001b[1;33m\u001b[0m\u001b[0m\n\u001b[1;32m     36\u001b[0m \u001b[1;31m# Don't let the original cycler collide with our validating cycler\u001b[0m\u001b[1;33m\u001b[0m\u001b[1;33m\u001b[0m\u001b[0m\n\u001b[0;32m---> 37\u001b[0;31m \u001b[1;32mfrom\u001b[0m \u001b[0mcycler\u001b[0m \u001b[1;32mimport\u001b[0m \u001b[0mCycler\u001b[0m\u001b[1;33m,\u001b[0m \u001b[0mcycler\u001b[0m \u001b[1;32mas\u001b[0m \u001b[0mccycler\u001b[0m\u001b[1;33m\u001b[0m\u001b[0m\n\u001b[0m\u001b[1;32m     38\u001b[0m \u001b[1;33m\u001b[0m\u001b[0m\n\u001b[1;32m     39\u001b[0m \u001b[1;31m# interactive_bk = ['gtk', 'gtkagg', 'gtkcairo', 'qt4agg',\u001b[0m\u001b[1;33m\u001b[0m\u001b[1;33m\u001b[0m\u001b[0m\n",
      "\u001b[0;31mImportError\u001b[0m: No module named 'cycler'"
     ]
    }
   ],
   "source": [
    "# Step 2 - Plot the data\n",
    "from matplotlib import pyplot as plt\n",
    "#figure, width and height\n",
    "fig = plt.figure(figsize = (8,8) )\n",
    "#3d subplot\n",
    "ax = fig.add_subplot(111,projection='3d')\n",
    "plt.rcParams['legend.fontsize'] = 10\n",
    "\n",
    "ax.plot(class1_sample[0,:], class1_sample[1,:], class1_sample[2,:],\n",
    "       'o', markersize=8,color='blue', alpha=0.5,label= 'class1')\n",
    "\n",
    "ax.plot(class2_sample[0,:], class2_sample[1,:], class2_sample[2,:],\n",
    "       '*', markersize=8,color='green', alpha=0.5,label= 'class2')\n",
    "\n",
    "ax.legend(loc='upper right')\n",
    "plt.show()"
   ]
  },
  {
   "cell_type": "code",
   "execution_count": null,
   "metadata": {
    "collapsed": true
   },
   "outputs": [],
   "source": []
  }
 ],
 "metadata": {
  "kernelspec": {
   "display_name": "Python 3",
   "language": "python",
   "name": "python3"
  },
  "language_info": {
   "codemirror_mode": {
    "name": "ipython",
    "version": 3
   },
   "file_extension": ".py",
   "mimetype": "text/x-python",
   "name": "python",
   "nbconvert_exporter": "python",
   "pygments_lexer": "ipython3",
   "version": "3.5.3"
  }
 },
 "nbformat": 4,
 "nbformat_minor": 2
}
